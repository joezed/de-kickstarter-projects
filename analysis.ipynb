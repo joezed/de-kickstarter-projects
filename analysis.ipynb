{
 "cells": [
  {
   "cell_type": "markdown",
   "metadata": {
    "application/vnd.databricks.v1+cell": {
     "cellMetadata": {
      "byteLimit": 2048000,
      "rowLimit": 10000
     },
     "inputWidgets": {},
     "nuid": "919735d3-7803-4a5f-a6c5-1851d42dc4be",
     "showTitle": false,
     "tableResultSettingsMap": {},
     "title": ""
    }
   },
   "source": [
    "# Kickstarter Projects Analysis  \n",
    "\n",
    "In here, all analysis will take place, as well as explanations."
   ]
  },
  {
   "cell_type": "code",
   "execution_count": 0,
   "metadata": {
    "application/vnd.databricks.v1+cell": {
     "cellMetadata": {
      "byteLimit": 2048000,
      "rowLimit": 10000
     },
     "inputWidgets": {},
     "nuid": "8a506bef-f132-4c60-873f-473e4593d270",
     "showTitle": false,
     "tableResultSettingsMap": {},
     "title": ""
    }
   },
   "outputs": [],
   "source": [
    "# Import required libraries for analysis\n",
    "\n",
    "import pandas as pd\n",
    "import matplotlib.pyplot as plt\n",
    "import matplotlib.cm as cm\n",
    "import seaborn as sb\n",
    "import sklearn\n",
    "import numpy as np\n",
    "from pyspark.sql.functions import col, sum"
   ]
  },
  {
   "cell_type": "markdown",
   "metadata": {
    "application/vnd.databricks.v1+cell": {
     "cellMetadata": {
      "byteLimit": 2048000,
      "rowLimit": 10000
     },
     "inputWidgets": {},
     "nuid": "0400ebdb-0527-478b-ab4f-350a0a35f02a",
     "showTitle": false,
     "tableResultSettingsMap": {},
     "title": ""
    }
   },
   "source": [
    "## Step 1 - Data Loading and Inspection  \n",
    "\n",
    "To start with, it's important to first check the table, get information on each column and see it's breakdown and to get an idea of the depth of the data we have to work with."
   ]
  },
  {
   "cell_type": "code",
   "execution_count": 0,
   "metadata": {
    "application/vnd.databricks.v1+cell": {
     "cellMetadata": {
      "byteLimit": 2048000,
      "implicitDf": true,
      "rowLimit": 10000
     },
     "inputWidgets": {},
     "nuid": "77f672d2-ae44-47ee-8307-2ef8fe4b3eac",
     "showTitle": true,
     "tableResultSettingsMap": {},
     "title": "Write to a Dataframe"
    }
   },
   "outputs": [],
   "source": [
    "df = spark.read.csv('/Volumes/workspace/default/de_data/kickstarter_projects.csv', header=True, inferSchema=True)"
   ]
  },
  {
   "cell_type": "markdown",
   "metadata": {
    "application/vnd.databricks.v1+cell": {
     "cellMetadata": {
      "byteLimit": 2048000,
      "rowLimit": 10000
     },
     "inputWidgets": {},
     "nuid": "cd7bb2d7-24f1-4e50-8e08-f0efa4819b8c",
     "showTitle": false,
     "tableResultSettingsMap": {},
     "title": ""
    }
   },
   "source": [
    "When printing schema, you can see that the data is in raw format. First steps must be to format the columns based on the data they hold."
   ]
  },
  {
   "cell_type": "code",
   "execution_count": 0,
   "metadata": {
    "application/vnd.databricks.v1+cell": {
     "cellMetadata": {
      "byteLimit": 2048000,
      "rowLimit": 10000
     },
     "inputWidgets": {},
     "nuid": "201fc73f-f5be-4933-a5a8-31071cb97780",
     "showTitle": false,
     "tableResultSettingsMap": {},
     "title": ""
    }
   },
   "outputs": [
    {
     "output_type": "stream",
     "name": "stdout",
     "output_type": "stream",
     "text": [
      "root\n |-- ID: integer (nullable = true)\n |-- Name: string (nullable = true)\n |-- Category: string (nullable = true)\n |-- Subcategory: string (nullable = true)\n |-- Country: string (nullable = true)\n |-- Launched: string (nullable = true)\n |-- Deadline: string (nullable = true)\n |-- Goal: string (nullable = true)\n |-- Pledged: string (nullable = true)\n |-- Backers: string (nullable = true)\n |-- State: string (nullable = true)\n\n"
     ]
    }
   ],
   "source": [
    "df.printSchema()"
   ]
  },
  {
   "cell_type": "code",
   "execution_count": 0,
   "metadata": {
    "application/vnd.databricks.v1+cell": {
     "cellMetadata": {
      "byteLimit": 2048000,
      "rowLimit": 10000
     },
     "inputWidgets": {},
     "nuid": "640920af-41bf-450b-9683-0ffbf7e8ff58",
     "showTitle": true,
     "tableResultSettingsMap": {},
     "title": "Conversions of Data"
    }
   },
   "outputs": [],
   "source": [
    "df = df.withColumn('ID', df['ID'].try_cast('int'))\n",
    "\n",
    "df = df.withColumn('Launched', df['Launched'].try_cast('timestamp'))\n",
    "\n",
    "df = df.withColumn('Deadline', df['Deadline'].try_cast('timestamp'))\n",
    "\n",
    "df = df.withColumn('Goal', df['Goal'].try_cast('int'))\n",
    "\n",
    "df = df.withColumn('Pledged', df['Pledged'].try_cast('int'))\n",
    "\n",
    "df = df.withColumn('Backers', df['Backers'].try_cast('int'))"
   ]
  },
  {
   "cell_type": "markdown",
   "metadata": {
    "application/vnd.databricks.v1+cell": {
     "cellMetadata": {
      "byteLimit": 2048000,
      "rowLimit": 10000
     },
     "inputWidgets": {},
     "nuid": "ee16b7ce-60bd-4e43-8c6c-c265cb33d8cb",
     "showTitle": false,
     "tableResultSettingsMap": {},
     "title": ""
    }
   },
   "source": [
    "We have quite a few null values now we've used _tryCast()_, but still the max we have is 1,290, and with a database of over 10,000 rows, I feel safe to remove these and still achieve good analysis."
   ]
  },
  {
   "cell_type": "code",
   "execution_count": 0,
   "metadata": {
    "application/vnd.databricks.v1+cell": {
     "cellMetadata": {
      "byteLimit": 2048000,
      "rowLimit": 10000
     },
     "inputWidgets": {},
     "nuid": "e0914b1d-61b5-4bf1-9d5b-f5f78a786ec4",
     "showTitle": true,
     "tableResultSettingsMap": {},
     "title": "Check NULL Count"
    }
   },
   "outputs": [
    {
     "output_type": "execute_result",
     "data": {
      "text/plain": [
       "[Row(ID=0, Name=0, Category=0, Subcategory=3, Country=4, Launched=1290, Deadline=210, Goal=1290, Pledged=210, Backers=27, State=5)]"
      ]
     },
     "execution_count": 6,
     "metadata": {},
     "output_type": "execute_result"
    }
   ],
   "source": [
    "df.select([sum(col(c).isNull().cast('int')).alias(c) for c in df.columns]).collect()"
   ]
  },
  {
   "cell_type": "code",
   "execution_count": 0,
   "metadata": {
    "application/vnd.databricks.v1+cell": {
     "cellMetadata": {
      "byteLimit": 2048000,
      "rowLimit": 10000
     },
     "inputWidgets": {},
     "nuid": "a503d53a-60c9-4ab6-bd1c-0bdf0e3bb241",
     "showTitle": true,
     "tableResultSettingsMap": {},
     "title": "Drop NULLS"
    }
   },
   "outputs": [],
   "source": [
    "df = df.dropna()"
   ]
  },
  {
   "cell_type": "code",
   "execution_count": 0,
   "metadata": {
    "application/vnd.databricks.v1+cell": {
     "cellMetadata": {
      "byteLimit": 2048000,
      "rowLimit": 10000
     },
     "inputWidgets": {},
     "nuid": "170513ab-7f46-4a22-85a1-ec863be00fb0",
     "showTitle": true,
     "tableResultSettingsMap": {},
     "title": "Recheck NULL count"
    }
   },
   "outputs": [
    {
     "output_type": "execute_result",
     "data": {
      "text/plain": [
       "[Row(ID=0, Name=0, Category=0, Subcategory=0, Country=0, Launched=0, Deadline=0, Goal=0, Pledged=0, Backers=0, State=0)]"
      ]
     },
     "execution_count": 8,
     "metadata": {},
     "output_type": "execute_result"
    }
   ],
   "source": [
    "df.select([sum(col(c).isNull().cast('int')).alias(c) for c in df.columns]).collect()"
   ]
  },
  {
   "cell_type": "markdown",
   "metadata": {
    "application/vnd.databricks.v1+cell": {
     "cellMetadata": {
      "byteLimit": 2048000,
      "rowLimit": 10000
     },
     "inputWidgets": {},
     "nuid": "089e4d3b-7e73-4eb2-8f34-9d712b262d74",
     "showTitle": false,
     "tableResultSettingsMap": {},
     "title": ""
    }
   },
   "source": [
    "Now with no NULL values in our dataset, we can continue formatting.  \n",
    "  \n",
    "Later on in my analysis, I want to assign a column to flag in greater detail how well (or bad) a project performed. In this case, it's worth discussing how we can show that. I want to be able to see if a project failed, first of all. But _how badly_ it failed I also want to know, so I will assign it the following.\n",
    "\n",
    "![](https://github.com/joezed/de-kickstarter-projects/blob/main/assets/state_decision_tree.png?raw=true)"
   ]
  },
  {
   "cell_type": "code",
   "execution_count": 0,
   "metadata": {
    "application/vnd.databricks.v1+cell": {
     "cellMetadata": {
      "byteLimit": 2048000,
      "rowLimit": 10000
     },
     "inputWidgets": {},
     "nuid": "8b5f741a-0a0e-41d5-bc22-b642940f6804",
     "showTitle": true,
     "tableResultSettingsMap": {},
     "title": "Convert to pandas for formatting"
    }
   },
   "outputs": [],
   "source": [
    "df = df.toPandas()"
   ]
  },
  {
   "cell_type": "code",
   "execution_count": 0,
   "metadata": {
    "application/vnd.databricks.v1+cell": {
     "cellMetadata": {
      "byteLimit": 2048000,
      "rowLimit": 10000
     },
     "inputWidgets": {},
     "nuid": "765cd5db-b7af-4494-9187-513184fc03da",
     "showTitle": true,
     "tableResultSettingsMap": {},
     "title": "Apply conditions for new state_flag column"
    }
   },
   "outputs": [],
   "source": [
    "df['Pledged'] = pd.to_numeric(df['Pledged'], errors='coerce').fillna(0)\n",
    "df['Goal'] = pd.to_numeric(df['Goal'], errors='coerce').fillna(0)\n",
    "\n",
    "conditions = [\n",
    "    (df['Pledged'] > df['Goal'] * 2),                               # Condition 1\n",
    "    (df['Pledged'] > df['Goal'] * 1.5),                             # Condition 2\n",
    "    (df['Pledged'] >= df['Goal']),                                  # Condition 3\n",
    "    ((df['Pledged'] < df['Goal']) & (df['Pledged'] > 0)),           # Condition 4\n",
    "    (df['Pledged'] == 0)                                            # Condition 5\n",
    "]\n",
    "\n",
    "choices = [2, 1, 0, -1, -2]\n",
    "\n",
    "df['state_flag'] = np.select(conditions, choices, default=0)"
   ]
  },
  {
   "cell_type": "markdown",
   "metadata": {
    "application/vnd.databricks.v1+cell": {
     "cellMetadata": {
      "byteLimit": 2048000,
      "rowLimit": 10000
     },
     "inputWidgets": {},
     "nuid": "666d4afc-d81d-42e9-a26a-e28d48156606",
     "showTitle": false,
     "tableResultSettingsMap": {},
     "title": ""
    }
   },
   "source": [
    "Now time to test my logic has worked. I've identified the following ID's with different states:\n",
    "\n",
    "| ID | Pledged | Goal | Condition Met | Expected Result |\n",
    "| :--- | :--- | :--- | :--- | :--- |\n",
    "| 177921463 | 1820 | 500 | Pledged > 2x Goal (Condition 1) | 2 |\n",
    "| 515267366 | 2265 | 1500 | Pledged > 1.5x Goal (Condition 2) | 1 |\n",
    "| 789689637 | 10164 | 10000 | Pledged > Goal (Condition 3) | 0 |\n",
    "| 755288436 | 360 | 360 | Pledged = Goal (Condition 3) | 0 |\n",
    "| 830477146 | 41 | 200 | Pledged < Goal (Condition 4) | -1 |\n",
    "| 1502297238 | 0 | 500 | 0 Pledged (Condition 5) | -2 |"
   ]
  },
  {
   "cell_type": "code",
   "execution_count": 0,
   "metadata": {
    "application/vnd.databricks.v1+cell": {
     "cellMetadata": {
      "byteLimit": 2048000,
      "rowLimit": 10000
     },
     "inputWidgets": {},
     "nuid": "26249497-b147-44e1-8c4b-40eecb9e1818",
     "showTitle": true,
     "tableResultSettingsMap": {},
     "title": "Test state_flag logic"
    }
   },
   "outputs": [
    {
     "output_type": "execute_result",
     "data": {
      "text/html": [
       "<div>\n",
       "<style scoped>\n",
       "    .dataframe tbody tr th:only-of-type {\n",
       "        vertical-align: middle;\n",
       "    }\n",
       "\n",
       "    .dataframe tbody tr th {\n",
       "        vertical-align: top;\n",
       "    }\n",
       "\n",
       "    .dataframe thead th {\n",
       "        text-align: right;\n",
       "    }\n",
       "</style>\n",
       "<table border=\"1\" class=\"dataframe\">\n",
       "  <thead>\n",
       "    <tr style=\"text-align: right;\">\n",
       "      <th></th>\n",
       "      <th>ID</th>\n",
       "      <th>Name</th>\n",
       "      <th>Category</th>\n",
       "      <th>Subcategory</th>\n",
       "      <th>Country</th>\n",
       "      <th>Launched</th>\n",
       "      <th>Deadline</th>\n",
       "      <th>Goal</th>\n",
       "      <th>Pledged</th>\n",
       "      <th>Backers</th>\n",
       "      <th>State</th>\n",
       "      <th>state_flag</th>\n",
       "    </tr>\n",
       "  </thead>\n",
       "  <tbody>\n",
       "    <tr>\n",
       "      <th>6</th>\n",
       "      <td>830477146</td>\n",
       "      <td>Web Site for Short Horror Film</td>\n",
       "      <td>Film &amp; Video</td>\n",
       "      <td>Shorts</td>\n",
       "      <td>United States</td>\n",
       "      <td>2009-04-29 02:04:21</td>\n",
       "      <td>2009-05-29</td>\n",
       "      <td>200</td>\n",
       "      <td>41</td>\n",
       "      <td>3</td>\n",
       "      <td>Failed</td>\n",
       "      <td>-1</td>\n",
       "    </tr>\n",
       "    <tr>\n",
       "      <th>8</th>\n",
       "      <td>1502297238</td>\n",
       "      <td>Produce a Play (Canceled)</td>\n",
       "      <td>Theater</td>\n",
       "      <td>Theater</td>\n",
       "      <td>United States</td>\n",
       "      <td>2009-04-29 04:37:37</td>\n",
       "      <td>2009-06-01</td>\n",
       "      <td>500</td>\n",
       "      <td>0</td>\n",
       "      <td>0</td>\n",
       "      <td>Canceled</td>\n",
       "      <td>-2</td>\n",
       "    </tr>\n",
       "    <tr>\n",
       "      <th>11</th>\n",
       "      <td>515267366</td>\n",
       "      <td>Crossword Puzzles!</td>\n",
       "      <td>Games</td>\n",
       "      <td>Puzzles</td>\n",
       "      <td>United States</td>\n",
       "      <td>2009-04-29 13:52:03</td>\n",
       "      <td>2009-06-30</td>\n",
       "      <td>1500</td>\n",
       "      <td>2265</td>\n",
       "      <td>163</td>\n",
       "      <td>Successful</td>\n",
       "      <td>1</td>\n",
       "    </tr>\n",
       "    <tr>\n",
       "      <th>13</th>\n",
       "      <td>177921463</td>\n",
       "      <td>Icons for your iPhone apps</td>\n",
       "      <td>Technology</td>\n",
       "      <td>Software</td>\n",
       "      <td>United States</td>\n",
       "      <td>2009-04-29 23:11:15</td>\n",
       "      <td>2009-06-15</td>\n",
       "      <td>500</td>\n",
       "      <td>1820</td>\n",
       "      <td>98</td>\n",
       "      <td>Successful</td>\n",
       "      <td>2</td>\n",
       "    </tr>\n",
       "    <tr>\n",
       "      <th>94</th>\n",
       "      <td>755288436</td>\n",
       "      <td>Help me get equipment and I'll make a song for...</td>\n",
       "      <td>Music</td>\n",
       "      <td>Music</td>\n",
       "      <td>United States</td>\n",
       "      <td>2009-06-01 03:37:06</td>\n",
       "      <td>2009-07-15</td>\n",
       "      <td>360</td>\n",
       "      <td>360</td>\n",
       "      <td>14</td>\n",
       "      <td>Successful</td>\n",
       "      <td>0</td>\n",
       "    </tr>\n",
       "    <tr>\n",
       "      <th>4428</th>\n",
       "      <td>789689637</td>\n",
       "      <td>The Four-Week Feature Film: Where Creativity M...</td>\n",
       "      <td>Film &amp; Video</td>\n",
       "      <td>Narrative Film</td>\n",
       "      <td>United States</td>\n",
       "      <td>2010-06-14 08:44:16</td>\n",
       "      <td>2010-07-24</td>\n",
       "      <td>10000</td>\n",
       "      <td>10164</td>\n",
       "      <td>131</td>\n",
       "      <td>Successful</td>\n",
       "      <td>0</td>\n",
       "    </tr>\n",
       "  </tbody>\n",
       "</table>\n",
       "</div>"
      ],
      "text/plain": [
       "              ID  ... state_flag\n",
       "6      830477146  ...         -1\n",
       "8     1502297238  ...         -2\n",
       "11     515267366  ...          1\n",
       "13     177921463  ...          2\n",
       "94     755288436  ...          0\n",
       "4428   789689637  ...          0\n",
       "\n",
       "[6 rows x 12 columns]"
      ]
     },
     "execution_count": 11,
     "metadata": {},
     "output_type": "execute_result"
    }
   ],
   "source": [
    "ids = [177921463, 515267366, 789689637, 755288436, 830477146, 1502297238]\n",
    "\n",
    "df.loc[df['ID'].isin(ids)]"
   ]
  },
  {
   "cell_type": "markdown",
   "metadata": {
    "application/vnd.databricks.v1+cell": {
     "cellMetadata": {
      "byteLimit": 2048000,
      "rowLimit": 10000
     },
     "inputWidgets": {},
     "nuid": "a8d1176f-c33a-467e-8888-0048f676bad9",
     "showTitle": false,
     "tableResultSettingsMap": {},
     "title": ""
    }
   },
   "source": [
    "## Step 2 - Analysis\n",
    "\n",
    "Now I have a formatted table, with correct data types and a state_flag for future analysis, I can start asking the questions and finding out some answers."
   ]
  },
  {
   "cell_type": "markdown",
   "metadata": {
    "application/vnd.databricks.v1+cell": {
     "cellMetadata": {
      "byteLimit": 2048000,
      "rowLimit": 10000
     },
     "inputWidgets": {},
     "nuid": "8b7cf7d7-6d29-43d0-a6ea-0afc18ccacd6",
     "showTitle": false,
     "tableResultSettingsMap": {},
     "title": ""
    }
   },
   "source": [
    "### How many projects actually succeed?\n",
    "\n",
    "A simple first question really - how many projects actually succeed on Kickstarter. My guess is not actually that many, but they'll be factors as to why, which I'll explore further later. Let's found out that one first. We're removing Live and Suspended projects for now. Live is, obviously, currently running Kickstarter projects, or at least at the time this data was taken, but Suspended, I actually didn't know why. Kickstarter says this... \n",
    "> A project may be suspended if our Trust & Safety team uncovers evidence that it is in violation of Kickstarter's rules, including but not limited to: Misrepresentation of support, through self-pledging or artificial inflation of the number of backers or amounts pledged.  \n",
    "\n",
    "... so actually, I don't really care for analysing them."
   ]
  },
  {
   "cell_type": "code",
   "execution_count": 0,
   "metadata": {
    "application/vnd.databricks.v1+cell": {
     "cellMetadata": {
      "byteLimit": 2048000,
      "rowLimit": 10000
     },
     "inputWidgets": {},
     "nuid": "98568252-5e57-4269-9ba7-063fe59dcf39",
     "showTitle": false,
     "tableResultSettingsMap": {},
     "title": ""
    }
   },
   "outputs": [
    {
     "output_type": "display_data",
     "data": {
      "image/png": "[encoded data removed]",
      "text/plain": [
       "<Figure size 300x300 with 1 Axes>"
      ]
     },
     "metadata": {},
     "output_type": "display_data"
    }
   ],
   "source": [
    "q1_desired_states = ['Successful', 'Failed', 'Canceled']\n",
    "\n",
    "q1_filtered_df = df[df['State'].isin(q1_desired_states)]\n",
    "\n",
    "q1_state_counts = q1_filtered_df['State'].value_counts()\n",
    "\n",
    "plt.figure(figsize=(3, 3))\n",
    "\n",
    "plt.pie(q1_state_counts, labels=q1_state_counts.index, autopct='%1.1f%%', startangle=140)\n",
    "\n",
    "plt.title('Status of Kickstarter Projects', fontsize=12)\n",
    "\n",
    "plt.axis('equal')  \n",
    "\n",
    "plt.show()"
   ]
  },
  {
   "cell_type": "markdown",
   "metadata": {
    "application/vnd.databricks.v1+cell": {
     "cellMetadata": {
      "byteLimit": 2048000,
      "rowLimit": 10000
     },
     "inputWidgets": {},
     "nuid": "8483b5e2-a453-4717-bae7-650160cfbf25",
     "showTitle": false,
     "tableResultSettingsMap": {},
     "title": ""
    }
   },
   "source": [
    "I assumed correctly, but wasn't expecting how low it was - only 36.1% make it to funding. \n",
    "\n",
    "It's worth mentioning though that some Kickstarter projects _only just_ fail, but they'll still come as a fail. But that's how Kickstarter works. You want \\$1000 and only make \\$999? To them, that project failed, and **nothing** is funded. Brutal."
   ]
  },
  {
   "cell_type": "markdown",
   "metadata": {
    "application/vnd.databricks.v1+cell": {
     "cellMetadata": {
      "byteLimit": 2048000,
      "rowLimit": 10000
     },
     "inputWidgets": {},
     "nuid": "3a593281-585b-46d0-84c5-8d0307b754e7",
     "showTitle": false,
     "tableResultSettingsMap": {},
     "title": ""
    }
   },
   "source": [
    "### Of the failures, how many were close?\n",
    "\n",
    "This is the brutal question I guess, but my morbid curiosity wants to know. How many got $1 off the fateful funding? I'll apply a percentage to this of all the failures, and how far off they were based on a percentage."
   ]
  },
  {
   "cell_type": "code",
   "execution_count": 0,
   "metadata": {
    "application/vnd.databricks.v1+cell": {
     "cellMetadata": {
      "byteLimit": 2048000,
      "rowLimit": 10000
     },
     "inputWidgets": {},
     "nuid": "f954e44e-2a85-4893-a5b9-588f454650f1",
     "showTitle": false,
     "tableResultSettingsMap": {},
     "title": ""
    }
   },
   "outputs": [],
   "source": [
    "q2_filtered_df = df[df['State'] == 'Failed'].copy()\n",
    "\n",
    "q2_filtered_df['funding_percentage'] = ((q2_filtered_df['Pledged'] / q2_filtered_df['Goal']) * 100).round(0)"
   ]
  },
  {
   "cell_type": "markdown",
   "metadata": {
    "application/vnd.databricks.v1+cell": {
     "cellMetadata": {
      "byteLimit": 2048000,
      "rowLimit": 10000
     },
     "inputWidgets": {},
     "nuid": "6cfc7730-4768-4f71-bcd2-71f3999faef9",
     "showTitle": false,
     "tableResultSettingsMap": {},
     "title": ""
    }
   },
   "source": [
    "This will be hard to read - let's add some ranges of funding."
   ]
  },
  {
   "cell_type": "code",
   "execution_count": 0,
   "metadata": {
    "application/vnd.databricks.v1+cell": {
     "cellMetadata": {
      "byteLimit": 2048000,
      "rowLimit": 10000
     },
     "inputWidgets": {},
     "nuid": "4a1f409f-6bc7-4cad-99ef-ce8bcf91adf3",
     "showTitle": false,
     "tableResultSettingsMap": {},
     "title": ""
    }
   },
   "outputs": [],
   "source": [
    "bins = [0, 10, 20, 30, 40, 50, 60, 70, 80, 90, np.inf]\n",
    "labels = ['0-9', '10-19', '20-29', '30-39', '40-49', '50-59', '60-69', '70-79', '80-89', '90-99']\n",
    "\n",
    "q2_filtered_df['funding_range'] = pd.cut(q2_filtered_df['funding_percentage'], bins=bins, labels=labels, right=False)"
   ]
  },
  {
   "cell_type": "code",
   "execution_count": 0,
   "metadata": {
    "application/vnd.databricks.v1+cell": {
     "cellMetadata": {
      "byteLimit": 2048000,
      "rowLimit": 10000
     },
     "inputWidgets": {},
     "nuid": "91c95a72-e04c-4ed0-8171-b4e39cad2276",
     "showTitle": false,
     "tableResultSettingsMap": {},
     "title": ""
    }
   },
   "outputs": [
    {
     "output_type": "display_data",
     "data": {
      "image/png": "[encoded data removed]",
      "text/plain": [
       "<Figure size 800x500 with 1 Axes>"
      ]
     },
     "metadata": {},
     "output_type": "display_data"
    }
   ],
   "source": [
    "range_counts = q2_filtered_df['funding_range'].value_counts().sort_index()\n",
    "\n",
    "num_bars = len(range_counts)\n",
    "colors = cm.RdYlGn_r(np.linspace(0.15, 1, num_bars))\n",
    "\n",
    "plt.figure(figsize=(8, 5))\n",
    "bars = plt.bar(range_counts.index, range_counts.values, color=colors)\n",
    "\n",
    "plt.xlabel('Funding Range (%)')\n",
    "plt.ylabel('Number of Projects')\n",
    "plt.title('Number of Failed Projects by Funding Range')\n",
    "plt.xticks(rotation=45, ha='right')\n",
    "\n",
    "for bar in bars:\n",
    "    yval = bar.get_height()\n",
    "    plt.text(bar.get_x() + bar.get_width()/2.0, yval, int(yval), va='bottom', ha='center')\n",
    "\n",
    "plt.tight_layout()\n",
    "plt.show()"
   ]
  },
  {
   "cell_type": "markdown",
   "metadata": {
    "application/vnd.databricks.v1+cell": {
     "cellMetadata": {
      "byteLimit": 2048000,
      "rowLimit": 10000
     },
     "inputWidgets": {},
     "nuid": "35d70861-8719-4bb4-b901-f9276abc8fbf",
     "showTitle": false,
     "tableResultSettingsMap": {},
     "title": ""
    }
   },
   "source": [
    "Ouch, so those 213 were SO close. And there's some that were ridiculously close, like Citizens of the Planet - Live Experience, only \\$837 off after nearly \\$10,000 raised. That's gotta sting. "
   ]
  },
  {
   "cell_type": "code",
   "execution_count": 0,
   "metadata": {
    "application/vnd.databricks.v1+cell": {
     "cellMetadata": {
      "byteLimit": 2048000,
      "rowLimit": 10000
     },
     "inputWidgets": {},
     "nuid": "d4c54f46-27cb-41c1-951f-9bce3a3e8dc7",
     "showTitle": false,
     "tableResultSettingsMap": {
      "0": {
       "dataGridStateBlob": "{\"version\":1,\"tableState\":{\"columnPinning\":{\"left\":[\"#row_number#\"],\"right\":[]},\"columnSizing\":{},\"columnVisibility\":{}},\"settings\":{\"columns\":{}},\"syncTimestamp\":1753139188746}",
       "filterBlob": null,
       "queryPlanFiltersBlob": null,
       "tableResultIndex": 0
      }
     },
     "title": ""
    }
   },
   "outputs": [
    {
     "output_type": "display_data",
     "data": {
      "text/html": [
       "<style scoped>\n",
       "  .table-result-container {\n",
       "    max-height: 300px;\n",
       "    overflow: auto;\n",
       "  }\n",
       "  table, th, td {\n",
       "    border: 1px solid black;\n",
       "    border-collapse: collapse;\n",
       "  }\n",
       "  th, td {\n",
       "    padding: 5px;\n",
       "  }\n",
       "  th {\n",
       "    text-align: left;\n",
       "  }\n",
       "</style><div class='table-result-container'><table class='table-result'><thead style='background-color: white'><tr><th>ID</th><th>Name</th><th>Category</th><th>Subcategory</th><th>Country</th><th>Launched</th><th>Deadline</th><th>Goal</th><th>Pledged</th><th>Backers</th><th>State</th><th>state_flag</th><th>funding_percentage</th><th>funding_range</th></tr></thead><tbody><tr><td>865653284</td><td>Citizens of the Planet - Live Experience</td><td>Music</td><td>Music</td><td>United States</td><td>2013-02-08T01:55:14.000Z</td><td>2013-03-10T00:00:00.000Z</td><td>100000</td><td>99136</td><td>592</td><td>Failed</td><td>-1</td><td>99.0</td><td>90-99</td></tr></tbody></table></div>"
      ]
     },
     "metadata": {
      "application/vnd.databricks.v1+output": {
       "addedWidgets": {},
       "aggData": [],
       "aggError": "",
       "aggOverflow": false,
       "aggSchema": [],
       "aggSeriesLimitReached": false,
       "aggType": "",
       "arguments": {},
       "columnCustomDisplayInfos": {},
       "data": [
        [
         865653284,
         "Citizens of the Planet - Live Experience",
         "Music",
         "Music",
         "United States",
         "2013-02-08T01:55:14.000Z",
         "2013-03-10T00:00:00.000Z",
         100000,
         99136,
         592,
         "Failed",
         -1,
         99.0,
         "90-99"
        ]
       ],
       "datasetInfos": [],
       "dbfsResultPath": null,
       "isJsonSchema": true,
       "metadata": {},
       "overflow": false,
       "plotOptions": {
        "customPlotOptions": {},
        "displayType": "table",
        "pivotAggregation": null,
        "pivotColumns": null,
        "xColumns": null,
        "yColumns": null
       },
       "removedWidgets": [],
       "schema": [
        {
         "metadata": "{}",
         "name": "ID",
         "type": "\"integer\""
        },
        {
         "metadata": "{}",
         "name": "Name",
         "type": "\"string\""
        },
        {
         "metadata": "{}",
         "name": "Category",
         "type": "\"string\""
        },
        {
         "metadata": "{}",
         "name": "Subcategory",
         "type": "\"string\""
        },
        {
         "metadata": "{}",
         "name": "Country",
         "type": "\"string\""
        },
        {
         "metadata": "{}",
         "name": "Launched",
         "type": "\"timestamp\""
        },
        {
         "metadata": "{}",
         "name": "Deadline",
         "type": "\"timestamp\""
        },
        {
         "metadata": "{}",
         "name": "Goal",
         "type": "\"integer\""
        },
        {
         "metadata": "{}",
         "name": "Pledged",
         "type": "\"integer\""
        },
        {
         "metadata": "{}",
         "name": "Backers",
         "type": "\"integer\""
        },
        {
         "metadata": "{}",
         "name": "State",
         "type": "\"string\""
        },
        {
         "metadata": "{}",
         "name": "state_flag",
         "type": "\"long\""
        },
        {
         "metadata": "{}",
         "name": "funding_percentage",
         "type": "\"double\""
        },
        {
         "metadata": "{}",
         "name": "funding_range",
         "type": "\"string\""
        }
       ],
       "type": "table"
      }
     },
     "output_type": "display_data"
    }
   ],
   "source": [
    "display(q2_filtered_df.loc[q2_filtered_df['ID'] == 865653284])"
   ]
  }
 ],
 "metadata": {
  "application/vnd.databricks.v1+notebook": {
   "computePreferences": null,
   "dashboards": [],
   "environmentMetadata": null,
   "inputWidgetPreferences": null,
   "language": "python",
   "notebookMetadata": {
    "mostRecentlyExecutedCommandWithImplicitDF": {
     "commandId": -1,
     "dataframes": [
      "_sqldf"
     ]
    },
    "pythonIndentUnit": 4
   },
   "notebookName": "analysis",
   "widgets": {}
  },
  "language_info": {
   "name": "python"
  }
 },
 "nbformat": 4,
 "nbformat_minor": 0
}
